{
  "metadata": {
    "language_info": {
      "codemirror_mode": {
        "name": "python",
        "version": 3
      },
      "file_extension": ".py",
      "mimetype": "text/x-python",
      "name": "python",
      "nbconvert_exporter": "python",
      "pygments_lexer": "ipython3",
      "version": "3.8"
    },
    "kernelspec": {
      "name": "python",
      "display_name": "Python (Pyodide)",
      "language": "python"
    }
  },
  "nbformat_minor": 4,
  "nbformat": 4,
  "cells": [
    {
      "cell_type": "markdown",
      "source": "# Data Science Tools and Ecosystem ",
      "metadata": {}
    },
    {
      "cell_type": "markdown",
      "source": "##### In this notebook, Data Science Tools and Ecosystem are summarized.",
      "metadata": {}
    },
    {
      "cell_type": "markdown",
      "source": "**Objectives:**\n* create markdown cells\n* add ordered list\n* add comments in code cells\n* add unordered list",
      "metadata": {}
    },
    {
      "cell_type": "markdown",
      "source": "##### Some of the popular languages that Data Scientists use are:\n\n1. C++\n2. Python\n3. R\n4. SQL",
      "metadata": {}
    },
    {
      "cell_type": "markdown",
      "source": "##### Some of the commonly used libraries used by Data Scientists include:\n\n1. Pandas\n\n2. Numpy\n\n3. Matplotlib\n\n4. Seaborn\n\n5. Scikit-learn",
      "metadata": {}
    },
    {
      "cell_type": "markdown",
      "source": "| Data Science Tools | \n| --- | \n| Anaconda | \n| R Studio |\n| Spyder | \n| Jupyter Notebooks | ",
      "metadata": {}
    },
    {
      "cell_type": "markdown",
      "source": "### Below are a few examples of evaluating arithmetic expressions in Python",
      "metadata": {}
    },
    {
      "cell_type": "code",
      "source": "# This a simple arithmetic expression to mutiply then add integers\n(3*4)+5",
      "metadata": {
        "trusted": true
      },
      "execution_count": 6,
      "outputs": [
        {
          "execution_count": 6,
          "output_type": "execute_result",
          "data": {
            "text/plain": "17"
          },
          "metadata": {}
        }
      ]
    },
    {
      "cell_type": "code",
      "source": "# This will convert 200 minutes to hours by diving by 60\n200//60",
      "metadata": {
        "trusted": true
      },
      "execution_count": 9,
      "outputs": [
        {
          "execution_count": 9,
          "output_type": "execute_result",
          "data": {
            "text/plain": "3"
          },
          "metadata": {}
        }
      ]
    },
    {
      "cell_type": "markdown",
      "source": "## Author \nZahra Mosahebeh",
      "metadata": {}
    },
    {
      "cell_type": "code",
      "source": "",
      "metadata": {},
      "execution_count": null,
      "outputs": []
    }
  ]
}